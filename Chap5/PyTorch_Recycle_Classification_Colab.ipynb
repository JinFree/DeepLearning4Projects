{
  "nbformat": 4,
  "nbformat_minor": 0,
  "metadata": {
    "colab": {
      "name": "PyTorch_Recycle_Classification_Colab.ipynb",
      "provenance": [],
      "collapsed_sections": []
    },
    "kernelspec": {
      "name": "python3",
      "display_name": "Python 3"
    },
    "accelerator": "GPU",
    "widgets": {
      "application/vnd.jupyter.widget-state+json": {
        "43037fca97834ec4aca6b528bd3e2f16": {
          "model_module": "@jupyter-widgets/controls",
          "model_name": "HBoxModel",
          "model_module_version": "1.5.0",
          "state": {
            "_view_name": "HBoxView",
            "_dom_classes": [],
            "_model_name": "HBoxModel",
            "_view_module": "@jupyter-widgets/controls",
            "_model_module_version": "1.5.0",
            "_view_count": null,
            "_view_module_version": "1.5.0",
            "box_style": "",
            "layout": "IPY_MODEL_c5f6979c2e864ea586e2a471449198b8",
            "_model_module": "@jupyter-widgets/controls",
            "children": [
              "IPY_MODEL_1954d057e2724c2eae9395a26fed733c",
              "IPY_MODEL_295a209efcaf45768f63323ddf0e2178",
              "IPY_MODEL_fc7815dd2b7e4f9081e1c772acec1c20"
            ]
          }
        },
        "c5f6979c2e864ea586e2a471449198b8": {
          "model_module": "@jupyter-widgets/base",
          "model_name": "LayoutModel",
          "model_module_version": "1.2.0",
          "state": {
            "_view_name": "LayoutView",
            "grid_template_rows": null,
            "right": null,
            "justify_content": null,
            "_view_module": "@jupyter-widgets/base",
            "overflow": null,
            "_model_module_version": "1.2.0",
            "_view_count": null,
            "flex_flow": null,
            "width": null,
            "min_width": null,
            "border": null,
            "align_items": null,
            "bottom": null,
            "_model_module": "@jupyter-widgets/base",
            "top": null,
            "grid_column": null,
            "overflow_y": null,
            "overflow_x": null,
            "grid_auto_flow": null,
            "grid_area": null,
            "grid_template_columns": null,
            "flex": null,
            "_model_name": "LayoutModel",
            "justify_items": null,
            "grid_row": null,
            "max_height": null,
            "align_content": null,
            "visibility": null,
            "align_self": null,
            "height": null,
            "min_height": null,
            "padding": null,
            "grid_auto_rows": null,
            "grid_gap": null,
            "max_width": null,
            "order": null,
            "_view_module_version": "1.2.0",
            "grid_template_areas": null,
            "object_position": null,
            "object_fit": null,
            "grid_auto_columns": null,
            "margin": null,
            "display": null,
            "left": null
          }
        },
        "1954d057e2724c2eae9395a26fed733c": {
          "model_module": "@jupyter-widgets/controls",
          "model_name": "HTMLModel",
          "model_module_version": "1.5.0",
          "state": {
            "_view_name": "HTMLView",
            "style": "IPY_MODEL_ecd74d657bf345d9bf50e0ce5c884bf0",
            "_dom_classes": [],
            "description": "",
            "_model_name": "HTMLModel",
            "placeholder": "​",
            "_view_module": "@jupyter-widgets/controls",
            "_model_module_version": "1.5.0",
            "value": "100%",
            "_view_count": null,
            "_view_module_version": "1.5.0",
            "description_tooltip": null,
            "_model_module": "@jupyter-widgets/controls",
            "layout": "IPY_MODEL_8418e98e48154548964fb600291f6cb8"
          }
        },
        "295a209efcaf45768f63323ddf0e2178": {
          "model_module": "@jupyter-widgets/controls",
          "model_name": "FloatProgressModel",
          "model_module_version": "1.5.0",
          "state": {
            "_view_name": "ProgressView",
            "style": "IPY_MODEL_7d5210f9a4fd432b912fcf5bf7c8f366",
            "_dom_classes": [],
            "description": "",
            "_model_name": "FloatProgressModel",
            "bar_style": "success",
            "max": 14212972,
            "_view_module": "@jupyter-widgets/controls",
            "_model_module_version": "1.5.0",
            "value": 14212972,
            "_view_count": null,
            "_view_module_version": "1.5.0",
            "orientation": "horizontal",
            "min": 0,
            "description_tooltip": null,
            "_model_module": "@jupyter-widgets/controls",
            "layout": "IPY_MODEL_f863d64a7e3548e2be41682e94fb3a1e"
          }
        },
        "fc7815dd2b7e4f9081e1c772acec1c20": {
          "model_module": "@jupyter-widgets/controls",
          "model_name": "HTMLModel",
          "model_module_version": "1.5.0",
          "state": {
            "_view_name": "HTMLView",
            "style": "IPY_MODEL_e634c73fc1764fc99810357c8afdc87a",
            "_dom_classes": [],
            "description": "",
            "_model_name": "HTMLModel",
            "placeholder": "​",
            "_view_module": "@jupyter-widgets/controls",
            "_model_module_version": "1.5.0",
            "value": " 13.6M/13.6M [00:00&lt;00:00, 29.5MB/s]",
            "_view_count": null,
            "_view_module_version": "1.5.0",
            "description_tooltip": null,
            "_model_module": "@jupyter-widgets/controls",
            "layout": "IPY_MODEL_071513e4be20464bb48eb190caffa861"
          }
        },
        "ecd74d657bf345d9bf50e0ce5c884bf0": {
          "model_module": "@jupyter-widgets/controls",
          "model_name": "DescriptionStyleModel",
          "model_module_version": "1.5.0",
          "state": {
            "_view_name": "StyleView",
            "_model_name": "DescriptionStyleModel",
            "description_width": "",
            "_view_module": "@jupyter-widgets/base",
            "_model_module_version": "1.5.0",
            "_view_count": null,
            "_view_module_version": "1.2.0",
            "_model_module": "@jupyter-widgets/controls"
          }
        },
        "8418e98e48154548964fb600291f6cb8": {
          "model_module": "@jupyter-widgets/base",
          "model_name": "LayoutModel",
          "model_module_version": "1.2.0",
          "state": {
            "_view_name": "LayoutView",
            "grid_template_rows": null,
            "right": null,
            "justify_content": null,
            "_view_module": "@jupyter-widgets/base",
            "overflow": null,
            "_model_module_version": "1.2.0",
            "_view_count": null,
            "flex_flow": null,
            "width": null,
            "min_width": null,
            "border": null,
            "align_items": null,
            "bottom": null,
            "_model_module": "@jupyter-widgets/base",
            "top": null,
            "grid_column": null,
            "overflow_y": null,
            "overflow_x": null,
            "grid_auto_flow": null,
            "grid_area": null,
            "grid_template_columns": null,
            "flex": null,
            "_model_name": "LayoutModel",
            "justify_items": null,
            "grid_row": null,
            "max_height": null,
            "align_content": null,
            "visibility": null,
            "align_self": null,
            "height": null,
            "min_height": null,
            "padding": null,
            "grid_auto_rows": null,
            "grid_gap": null,
            "max_width": null,
            "order": null,
            "_view_module_version": "1.2.0",
            "grid_template_areas": null,
            "object_position": null,
            "object_fit": null,
            "grid_auto_columns": null,
            "margin": null,
            "display": null,
            "left": null
          }
        },
        "7d5210f9a4fd432b912fcf5bf7c8f366": {
          "model_module": "@jupyter-widgets/controls",
          "model_name": "ProgressStyleModel",
          "model_module_version": "1.5.0",
          "state": {
            "_view_name": "StyleView",
            "_model_name": "ProgressStyleModel",
            "description_width": "",
            "_view_module": "@jupyter-widgets/base",
            "_model_module_version": "1.5.0",
            "_view_count": null,
            "_view_module_version": "1.2.0",
            "bar_color": null,
            "_model_module": "@jupyter-widgets/controls"
          }
        },
        "f863d64a7e3548e2be41682e94fb3a1e": {
          "model_module": "@jupyter-widgets/base",
          "model_name": "LayoutModel",
          "model_module_version": "1.2.0",
          "state": {
            "_view_name": "LayoutView",
            "grid_template_rows": null,
            "right": null,
            "justify_content": null,
            "_view_module": "@jupyter-widgets/base",
            "overflow": null,
            "_model_module_version": "1.2.0",
            "_view_count": null,
            "flex_flow": null,
            "width": null,
            "min_width": null,
            "border": null,
            "align_items": null,
            "bottom": null,
            "_model_module": "@jupyter-widgets/base",
            "top": null,
            "grid_column": null,
            "overflow_y": null,
            "overflow_x": null,
            "grid_auto_flow": null,
            "grid_area": null,
            "grid_template_columns": null,
            "flex": null,
            "_model_name": "LayoutModel",
            "justify_items": null,
            "grid_row": null,
            "max_height": null,
            "align_content": null,
            "visibility": null,
            "align_self": null,
            "height": null,
            "min_height": null,
            "padding": null,
            "grid_auto_rows": null,
            "grid_gap": null,
            "max_width": null,
            "order": null,
            "_view_module_version": "1.2.0",
            "grid_template_areas": null,
            "object_position": null,
            "object_fit": null,
            "grid_auto_columns": null,
            "margin": null,
            "display": null,
            "left": null
          }
        },
        "e634c73fc1764fc99810357c8afdc87a": {
          "model_module": "@jupyter-widgets/controls",
          "model_name": "DescriptionStyleModel",
          "model_module_version": "1.5.0",
          "state": {
            "_view_name": "StyleView",
            "_model_name": "DescriptionStyleModel",
            "description_width": "",
            "_view_module": "@jupyter-widgets/base",
            "_model_module_version": "1.5.0",
            "_view_count": null,
            "_view_module_version": "1.2.0",
            "_model_module": "@jupyter-widgets/controls"
          }
        },
        "071513e4be20464bb48eb190caffa861": {
          "model_module": "@jupyter-widgets/base",
          "model_name": "LayoutModel",
          "model_module_version": "1.2.0",
          "state": {
            "_view_name": "LayoutView",
            "grid_template_rows": null,
            "right": null,
            "justify_content": null,
            "_view_module": "@jupyter-widgets/base",
            "overflow": null,
            "_model_module_version": "1.2.0",
            "_view_count": null,
            "flex_flow": null,
            "width": null,
            "min_width": null,
            "border": null,
            "align_items": null,
            "bottom": null,
            "_model_module": "@jupyter-widgets/base",
            "top": null,
            "grid_column": null,
            "overflow_y": null,
            "overflow_x": null,
            "grid_auto_flow": null,
            "grid_area": null,
            "grid_template_columns": null,
            "flex": null,
            "_model_name": "LayoutModel",
            "justify_items": null,
            "grid_row": null,
            "max_height": null,
            "align_content": null,
            "visibility": null,
            "align_self": null,
            "height": null,
            "min_height": null,
            "padding": null,
            "grid_auto_rows": null,
            "grid_gap": null,
            "max_width": null,
            "order": null,
            "_view_module_version": "1.2.0",
            "grid_template_areas": null,
            "object_position": null,
            "object_fit": null,
            "grid_auto_columns": null,
            "margin": null,
            "display": null,
            "left": null
          }
        }
      }
    }
  },
  "cells": [
    {
      "cell_type": "markdown",
      "metadata": {
        "id": "kESNVsD5w93-"
      },
      "source": [
        "우선 훈련을 위한 깃헙 저장소를 다운로드합니다."
      ]
    },
    {
      "cell_type": "code",
      "metadata": {
        "id": "4I97OkyPxB7x",
        "outputId": "bcdee4a5-89dd-4608-d8f8-c540665c7243",
        "colab": {
          "base_uri": "https://localhost:8080/"
        }
      },
      "source": [
        "print(\"Download Example Repository\")\n",
        "!git clone https://github.com/jetsonai/DeepLearning4Projects"
      ],
      "execution_count": 2,
      "outputs": [
        {
          "output_type": "stream",
          "name": "stdout",
          "text": [
            "Download Example Repository\n",
            "Cloning into 'DeepLearning4Projects'...\n",
            "remote: Enumerating objects: 139, done.\u001b[K\n",
            "remote: Counting objects: 100% (64/64), done.\u001b[K\n",
            "remote: Compressing objects: 100% (61/61), done.\u001b[K\n",
            "remote: Total 139 (delta 20), reused 19 (delta 1), pack-reused 75\u001b[K\n",
            "Receiving objects: 100% (139/139), 13.68 MiB | 26.33 MiB/s, done.\n",
            "Resolving deltas: 100% (42/42), done.\n"
          ]
        }
      ]
    },
    {
      "cell_type": "code",
      "source": [
        "cd DeepLearning4Projects/Chap5/"
      ],
      "metadata": {
        "id": "YOoYGIW7XFtf",
        "outputId": "1a250f7a-ba15-4c9e-d203-09530bafb7b7",
        "colab": {
          "base_uri": "https://localhost:8080/"
        }
      },
      "execution_count": 4,
      "outputs": [
        {
          "output_type": "stream",
          "name": "stdout",
          "text": [
            "/content/DeepLearning4Projects/Chap5\n"
          ]
        }
      ]
    },
    {
      "cell_type": "code",
      "source": [
        "ls"
      ],
      "metadata": {
        "id": "Bci6XIR5Xjjq",
        "outputId": "0663a317-a59e-44ab-9e86-44e281e9d622",
        "colab": {
          "base_uri": "https://localhost:8080/"
        }
      },
      "execution_count": 5,
      "outputs": [
        {
          "output_type": "stream",
          "name": "stdout",
          "text": [
            "Dataset_Class.py\n",
            "\u001b[0m\u001b[01;32mInference_Cam.py\u001b[0m*\n",
            "label_map.txt\n",
            "Model_Class_From_the_Scratch.py\n",
            "Model_Class_Transfer_Learning_MobileNet.py\n",
            "PyTorch_Recycle_Classification_Colab.ipynb\n",
            "PyTorch_Training_From_Scratch.pt\n",
            "PyTorch_Transfer_Learning_MobileNet.pt\n",
            "test_video.mp4\n",
            "Training_Class.py\n"
          ]
        }
      ]
    },
    {
      "cell_type": "markdown",
      "metadata": {
        "id": "sHJ7DZs4w47x"
      },
      "source": [
        "그 후 데이터셋을 다운로드합니다.\n",
        "\n",
        "다운로드에 약 7분 정도의 시간이 필요합니다."
      ]
    },
    {
      "cell_type": "code",
      "metadata": {
        "id": "PcYCWnHmcGZ7",
        "outputId": "a320ef84-e14f-465c-ee11-7a38868a0bf9",
        "colab": {
          "base_uri": "https://localhost:8080/"
        }
      },
      "source": [
        "print(\"Download Dataset\")\n",
        "!git clone https://github.com/jetsonai/Recycle_Classification_Dataset.git\n",
        "!rm -rf ./Recycle_Classification_Dataset/.git"
      ],
      "execution_count": 6,
      "outputs": [
        {
          "output_type": "stream",
          "name": "stdout",
          "text": [
            "Download Dataset\n",
            "Cloning into 'Recycle_Classification_Dataset'...\n",
            "remote: Enumerating objects: 9442, done.\u001b[K\n",
            "remote: Total 9442 (delta 0), reused 0 (delta 0), pack-reused 9442\u001b[K\n",
            "Receiving objects: 100% (9442/9442), 6.87 GiB | 36.63 MiB/s, done.\n",
            "Resolving deltas: 100% (14/14), done.\n",
            "Checking out files: 100% (9417/9417), done.\n"
          ]
        }
      ]
    },
    {
      "cell_type": "markdown",
      "metadata": {
        "id": "eXfcVj3vxRJS"
      },
      "source": [
        "훈련을 위한 클래스를 불러옵니다."
      ]
    },
    {
      "cell_type": "code",
      "metadata": {
        "id": "AhzX5PIvslVo"
      },
      "source": [
        "from Recycle_Classification_with_PyTorch.Training_Class import PyTorch_Classification_Training_Class\n",
        "training_class = PyTorch_Classification_Training_Class()"
      ],
      "execution_count": 7,
      "outputs": []
    },
    {
      "cell_type": "markdown",
      "metadata": {
        "id": "WcBjqSiuxUta"
      },
      "source": [
        "우선 임의 제작한 네트워크 구조를 활용하여 처음부터 훈련합니다.\n",
        "네트워크 구조는 Model_Class_From_the_Scratch.py 파일을 통해 확인할 수 있습니다."
      ]
    },
    {
      "cell_type": "code",
      "metadata": {
        "id": "2bIvDJJIuL7_",
        "outputId": "ae87b25f-a4fe-4d0f-c1ee-b3259c62d0ce",
        "colab": {
          "base_uri": "https://localhost:8080/"
        }
      },
      "source": [
        "print(\"Learning from scratch\")\n",
        "training_class.prepare_network(True)\n",
        "training_class.training_network(learning_rate = 0.0001, epochs=10, step_size=3, gamma=0.3)"
      ],
      "execution_count": 8,
      "outputs": [
        {
          "output_type": "stream",
          "name": "stdout",
          "text": [
            "Learning from scratch\n"
          ]
        },
        {
          "output_type": "stream",
          "name": "stderr",
          "text": [
            "100%|██████████| 442/442 [09:29<00:00,  1.29s/it]\n",
            "100%|██████████| 148/148 [03:14<00:00,  1.32s/it]\n"
          ]
        },
        {
          "output_type": "stream",
          "name": "stdout",
          "text": [
            "[1] Test Loss: 1.2294, Accuracy: 50.40%\n",
            "model saved!\n"
          ]
        },
        {
          "output_type": "stream",
          "name": "stderr",
          "text": [
            "100%|██████████| 442/442 [09:22<00:00,  1.27s/it]\n",
            "100%|██████████| 148/148 [03:10<00:00,  1.29s/it]\n"
          ]
        },
        {
          "output_type": "stream",
          "name": "stdout",
          "text": [
            "[2] Test Loss: 1.1971, Accuracy: 53.55%\n",
            "model saved!\n"
          ]
        },
        {
          "output_type": "stream",
          "name": "stderr",
          "text": [
            "100%|██████████| 442/442 [09:10<00:00,  1.25s/it]\n",
            "100%|██████████| 148/148 [03:11<00:00,  1.30s/it]\n"
          ]
        },
        {
          "output_type": "stream",
          "name": "stdout",
          "text": [
            "[3] Test Loss: 1.1714, Accuracy: 56.86%\n",
            "model saved!\n"
          ]
        },
        {
          "output_type": "stream",
          "name": "stderr",
          "text": [
            "100%|██████████| 442/442 [09:06<00:00,  1.24s/it]\n",
            "100%|██████████| 148/148 [03:10<00:00,  1.29s/it]\n"
          ]
        },
        {
          "output_type": "stream",
          "name": "stdout",
          "text": [
            "[4] Test Loss: 1.1606, Accuracy: 57.11%\n",
            "model saved!\n"
          ]
        },
        {
          "output_type": "stream",
          "name": "stderr",
          "text": [
            "100%|██████████| 442/442 [09:01<00:00,  1.23s/it]\n",
            "100%|██████████| 148/148 [03:09<00:00,  1.28s/it]\n"
          ]
        },
        {
          "output_type": "stream",
          "name": "stdout",
          "text": [
            "[5] Test Loss: 1.1477, Accuracy: 58.68%\n",
            "model saved!\n"
          ]
        },
        {
          "output_type": "stream",
          "name": "stderr",
          "text": [
            "100%|██████████| 442/442 [09:05<00:00,  1.23s/it]\n",
            "100%|██████████| 148/148 [03:08<00:00,  1.27s/it]\n"
          ]
        },
        {
          "output_type": "stream",
          "name": "stdout",
          "text": [
            "[6] Test Loss: 1.1451, Accuracy: 59.19%\n",
            "model saved!\n"
          ]
        },
        {
          "output_type": "stream",
          "name": "stderr",
          "text": [
            "100%|██████████| 442/442 [09:15<00:00,  1.26s/it]\n",
            "100%|██████████| 148/148 [03:08<00:00,  1.28s/it]\n"
          ]
        },
        {
          "output_type": "stream",
          "name": "stdout",
          "text": [
            "[7] Test Loss: 1.1411, Accuracy: 59.70%\n",
            "model saved!\n"
          ]
        },
        {
          "output_type": "stream",
          "name": "stderr",
          "text": [
            "100%|██████████| 442/442 [09:05<00:00,  1.23s/it]\n",
            "100%|██████████| 148/148 [03:09<00:00,  1.28s/it]\n"
          ]
        },
        {
          "output_type": "stream",
          "name": "stdout",
          "text": [
            "[8] Test Loss: 1.1413, Accuracy: 59.96%\n",
            "model saved!\n"
          ]
        },
        {
          "output_type": "stream",
          "name": "stderr",
          "text": [
            "100%|██████████| 442/442 [09:02<00:00,  1.23s/it]\n",
            "100%|██████████| 148/148 [03:09<00:00,  1.28s/it]\n"
          ]
        },
        {
          "output_type": "stream",
          "name": "stdout",
          "text": [
            "[9] Test Loss: 1.1359, Accuracy: 60.51%\n",
            "model saved!\n"
          ]
        },
        {
          "output_type": "stream",
          "name": "stderr",
          "text": [
            "100%|██████████| 442/442 [09:04<00:00,  1.23s/it]\n",
            "100%|██████████| 148/148 [03:12<00:00,  1.30s/it]"
          ]
        },
        {
          "output_type": "stream",
          "name": "stdout",
          "text": [
            "[10] Test Loss: 1.1353, Accuracy: 60.04%\n",
            "model saved!\n"
          ]
        },
        {
          "output_type": "stream",
          "name": "stderr",
          "text": [
            "\n"
          ]
        }
      ]
    },
    {
      "cell_type": "markdown",
      "metadata": {
        "id": "X8cD2Hr2xk_c"
      },
      "source": [
        "다음은 ImageNet의 천 개 클래스의 백만 장 이미지로 학습한 MobileNetv2 네트워크를 전이학습합니다.\n",
        "MobileNetv2 네트워크의 마지막 레이어의 출력 노드 수를 우리가 구분하고자 하는 클래스 수에 맞게 수정한 후 학습하며, 코드는 Model_Class_Transfer_Learning_MobileNet.py에서 확인할 수 있습니다."
      ]
    },
    {
      "cell_type": "code",
      "metadata": {
        "id": "9HcSYrRhwJUp",
        "outputId": "a45b798c-2a81-4e99-fb24-bf1e3a16ba24",
        "colab": {
          "base_uri": "https://localhost:8080/",
          "height": 486,
          "referenced_widgets": [
            "43037fca97834ec4aca6b528bd3e2f16",
            "c5f6979c2e864ea586e2a471449198b8",
            "1954d057e2724c2eae9395a26fed733c",
            "295a209efcaf45768f63323ddf0e2178",
            "fc7815dd2b7e4f9081e1c772acec1c20",
            "ecd74d657bf345d9bf50e0ce5c884bf0",
            "8418e98e48154548964fb600291f6cb8",
            "7d5210f9a4fd432b912fcf5bf7c8f366",
            "f863d64a7e3548e2be41682e94fb3a1e",
            "e634c73fc1764fc99810357c8afdc87a",
            "071513e4be20464bb48eb190caffa861"
          ]
        }
      },
      "source": [
        "print(\"Transfer learning\")\n",
        "training_class.prepare_network(False)\n",
        "training_class.training_network(learning_rate = 0.00001, epochs=5, step_size=3, gamma=0.3)"
      ],
      "execution_count": 9,
      "outputs": [
        {
          "output_type": "stream",
          "name": "stdout",
          "text": [
            "Transfer learning\n"
          ]
        },
        {
          "output_type": "stream",
          "name": "stderr",
          "text": [
            "Downloading: \"https://download.pytorch.org/models/mobilenet_v2-b0353104.pth\" to /root/.cache/torch/hub/checkpoints/mobilenet_v2-b0353104.pth\n"
          ]
        },
        {
          "output_type": "display_data",
          "data": {
            "application/vnd.jupyter.widget-view+json": {
              "model_id": "43037fca97834ec4aca6b528bd3e2f16",
              "version_minor": 0,
              "version_major": 2
            },
            "text/plain": [
              "  0%|          | 0.00/13.6M [00:00<?, ?B/s]"
            ]
          },
          "metadata": {}
        },
        {
          "output_type": "stream",
          "name": "stderr",
          "text": [
            "100%|██████████| 442/442 [10:22<00:00,  1.41s/it]\n",
            "100%|██████████| 148/148 [03:22<00:00,  1.37s/it]\n"
          ]
        },
        {
          "output_type": "stream",
          "name": "stdout",
          "text": [
            "[1] Test Loss: 0.9310, Accuracy: 84.25%\n",
            "model saved!\n"
          ]
        },
        {
          "output_type": "stream",
          "name": "stderr",
          "text": [
            "100%|██████████| 442/442 [10:25<00:00,  1.41s/it]\n",
            "100%|██████████| 148/148 [03:24<00:00,  1.38s/it]\n"
          ]
        },
        {
          "output_type": "stream",
          "name": "stdout",
          "text": [
            "[2] Test Loss: 0.8454, Accuracy: 92.23%\n",
            "model saved!\n"
          ]
        },
        {
          "output_type": "stream",
          "name": "stderr",
          "text": [
            "100%|██████████| 442/442 [10:23<00:00,  1.41s/it]\n",
            "100%|██████████| 148/148 [03:24<00:00,  1.38s/it]\n"
          ]
        },
        {
          "output_type": "stream",
          "name": "stdout",
          "text": [
            "[3] Test Loss: 0.8113, Accuracy: 94.35%\n",
            "model saved!\n"
          ]
        },
        {
          "output_type": "stream",
          "name": "stderr",
          "text": [
            "100%|██████████| 442/442 [10:27<00:00,  1.42s/it]\n",
            "100%|██████████| 148/148 [03:24<00:00,  1.38s/it]\n"
          ]
        },
        {
          "output_type": "stream",
          "name": "stdout",
          "text": [
            "[4] Test Loss: 0.8047, Accuracy: 95.16%\n",
            "model saved!\n"
          ]
        },
        {
          "output_type": "stream",
          "name": "stderr",
          "text": [
            "100%|██████████| 442/442 [10:26<00:00,  1.42s/it]\n",
            "100%|██████████| 148/148 [03:25<00:00,  1.39s/it]"
          ]
        },
        {
          "output_type": "stream",
          "name": "stdout",
          "text": [
            "[5] Test Loss: 0.7985, Accuracy: 95.41%\n",
            "model saved!\n"
          ]
        },
        {
          "output_type": "stream",
          "name": "stderr",
          "text": [
            "\n"
          ]
        }
      ]
    },
    {
      "cell_type": "markdown",
      "metadata": {
        "id": "yLBv36tWx9z0"
      },
      "source": [
        "모든 학습이 끝나면 label_map.txt와 PyTorch_Training_From_Scratch.pt, PyTorch_Transfer_Learning_MobileNet.pt 파일을 다운로드합니다.\n",
        "\n",
        "이후 Jetson 보드에서 해당 파일로 추론을 수행할 수 있습니다."
      ]
    }
  ]
}