{
  "nbformat": 4,
  "nbformat_minor": 0,
  "metadata": {
    "colab": {
      "name": "Inference_Image.ipynb",
      "provenance": [],
      "collapsed_sections": []
    },
    "kernelspec": {
      "name": "python3",
      "display_name": "Python 3"
    },
    "language_info": {
      "name": "python"
    }
  },
  "cells": [
    {
      "cell_type": "markdown",
      "source": [
        "추론 실습을 위해 깃헙 저장소를 다운로드합니다."
      ],
      "metadata": {
        "id": "_WqCnd53Gsg2"
      }
    },
    {
      "cell_type": "code",
      "execution_count": null,
      "metadata": {
        "id": "BANnE4zCuFNw"
      },
      "outputs": [],
      "source": [
        "print(\"Download Example Repository\")\n",
        "!git clone https://github.com/jetsonai/DeepLearning4Projects"
      ]
    },
    {
      "cell_type": "code",
      "source": [
        "# Colab에서 OpenCV 이미지를 보기 위한 패키지를 불러옵니다.\n",
        "import cv2\n",
        "import numpy as np\n",
        "from google.colab.patches import cv2_imshow"
      ],
      "metadata": {
        "id": "j3dH-tYyKdIy"
      },
      "execution_count": 1,
      "outputs": []
    },
    {
      "cell_type": "code",
      "source": [
        "%cd /content/DeepLearning4Projects/Chap5\n",
        "# 추론을 위한 클래스를 불러옵니다.\n",
        "from Inference_Cam import Inference_Class\n",
        "\n",
        "# 클래스를 초기화하고 모델을 불러옵니다.\n",
        "inferenceClass = Inference_Class()\n",
        "is_train_from_scratch = True\n",
        "inferenceClass.load_model(is_train_from_scratch)\n",
        "%cd /content"
      ],
      "metadata": {
        "id": "qt36OA2wHykD"
      },
      "execution_count": null,
      "outputs": []
    },
    {
      "cell_type": "code",
      "source": [
        "def inference(input_image):\n",
        "    cv_image = []\n",
        "    if isinstance(input_image, str):\n",
        "        cv_image = cv2.imread(input_image, cv2.IMREAD_COLOR)\n",
        "    else:\n",
        "        cv_image = np.copy(input_image)\n",
        "    result_frame, label_text, class_prob = inferenceClass.inference_image(cv_image)\n",
        "    print(\"입력 이미지는 {} % 확률로 {}으로 분류됩니다.\".format((float)(class_prob) * 100, label_text))\n",
        "    cv2_imshow(result_frame)\n",
        "    return result_frame"
      ],
      "metadata": {
        "id": "cQIM4p2KIFyz"
      },
      "execution_count": 7,
      "outputs": []
    },
    {
      "cell_type": "markdown",
      "source": [
        "이미지를 업로드 후 해당 이미지의 경로를 입력합니다."
      ],
      "metadata": {
        "id": "XF5K254kNmyH"
      }
    },
    {
      "cell_type": "code",
      "source": [
        "input_image_path = \"/content/DeepLearning4Projects/Chap5/test_image.jpg\"\n",
        "result = inference(input_image_path)"
      ],
      "metadata": {
        "id": "5LIWvXLNLP7p"
      },
      "execution_count": null,
      "outputs": []
    },
    {
      "cell_type": "code",
      "source": [
        ""
      ],
      "metadata": {
        "id": "MfYZG6PkMHDK"
      },
      "execution_count": null,
      "outputs": []
    }
  ]
}