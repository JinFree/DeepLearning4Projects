{
  "nbformat": 4,
  "nbformat_minor": 0,
  "metadata": {
    "colab": {
      "name": "Chap1_LossCalculation.ipynb",
      "provenance": []
    },
    "kernelspec": {
      "name": "python3",
      "display_name": "Python 3"
    },
    "language_info": {
      "name": "python"
    }
  },
  "cells": [
    {
      "cell_type": "markdown",
      "source": [
        "코드 1.1. 평균 제곱 오차 계산"
      ],
      "metadata": {
        "id": "F25iWiH242EM"
      }
    },
    {
      "cell_type": "code",
      "source": [
        "import numpy as np\n",
        "# 1. mse_function 함수\n",
        "def mse_function(y, t):\n",
        "    return 0.5 * np.sum((y - t) ** 2)\n",
        "\n",
        "# 2. 정답 데이터\n",
        "t = [0,0,0,1,0,0,0,0,0,0]\n",
        "\n",
        "# 3. 모델 출력 값의 예 2개 y1, y2\n",
        "y1 = [0.01, 0.03, 0.1, 0.8, 0.1, 0.1, 0.02, 0.1, 0.0, 0.01]\n",
        "y2 = [0.01, 0.03, 0.1, 0.07, 0.1, 0.1, 0.02, 0.1, 0.8, 0.01]"
      ],
      "metadata": {
        "id": "jrBdozFK4Bal"
      },
      "execution_count": 2,
      "outputs": []
    },
    {
      "cell_type": "code",
      "source": [
        "# 4. y1의 경우 평균 제곱 오차 계산결과 출력\n",
        "mse1 = mse_function(np.array(y1), np.array(t))\n",
        "print(mse1)"
      ],
      "metadata": {
        "colab": {
          "base_uri": "https://localhost:8080/"
        },
        "id": "XK7ygwXE4Jz8",
        "outputId": "13c2b8aa-3e60-4f62-d195-c5cab85483fb"
      },
      "execution_count": 3,
      "outputs": [
        {
          "output_type": "stream",
          "name": "stdout",
          "text": [
            "0.040749999999999995\n"
          ]
        }
      ]
    },
    {
      "cell_type": "code",
      "source": [
        "# 5. y2의 경우 평균 제곱 오차 계산결과 출력\n",
        "mse2 = mse_function(np.array(y2), np.array(t))\n",
        "print(mse2)"
      ],
      "metadata": {
        "colab": {
          "base_uri": "https://localhost:8080/"
        },
        "id": "bsvQQX8f4M0S",
        "outputId": "073a4109-8b2e-40ad-e917-48b202c0ecd0"
      },
      "execution_count": 4,
      "outputs": [
        {
          "output_type": "stream",
          "name": "stdout",
          "text": [
            "0.7732\n"
          ]
        }
      ]
    },
    {
      "cell_type": "markdown",
      "source": [
        "코드 1.2. 크로스 엔트로피 오차 계산"
      ],
      "metadata": {
        "id": "8rhDNwQn49b7"
      }
    },
    {
      "cell_type": "code",
      "source": [
        "# 1.  cee_function 함수\n",
        "def cee_function(y, t):\n",
        "    delta = 1e-7\n",
        "    return -np.sum(t * np.log(y + delta))\n",
        "\n",
        "# 2. 정답 데이터\n",
        "t = [0,0,0,1,0,0,0,0,0,0]\n",
        "\n",
        "# 3. 모델 출력 값의 예 2개 y1, y2\n",
        "y1 = [0.01, 0.03, 0.1, 0.8, 0.1, 0.1, 0.02, 0.1, 0.0, 0.01]\n",
        "y2 = [0.01, 0.03, 0.1, 0.07, 0.1, 0.1, 0.02, 0.1, 0.8, 0.01]"
      ],
      "metadata": {
        "id": "c3L6vCpK5EGs"
      },
      "execution_count": 5,
      "outputs": []
    },
    {
      "cell_type": "code",
      "source": [
        "# 4. y1의 경우 교차 엔트로피 오차 계산결과 출력\n",
        "see1 = cee_function(np.array(y1), np.array(t))\n",
        "print(see1)"
      ],
      "metadata": {
        "colab": {
          "base_uri": "https://localhost:8080/"
        },
        "id": "ZDEbfKJ85JKj",
        "outputId": "ae91ed47-2d75-4f54-9a49-c1dbba2d8431"
      },
      "execution_count": 6,
      "outputs": [
        {
          "output_type": "stream",
          "name": "stdout",
          "text": [
            "0.22314342631421757\n"
          ]
        }
      ]
    },
    {
      "cell_type": "code",
      "source": [
        "# 5. y2의 경우 교차 엔트로피 오차 계산결과 출력\n",
        "see2 = cee_function(np.array(y2), np.array(t))\n",
        "print(see2)"
      ],
      "metadata": {
        "colab": {
          "base_uri": "https://localhost:8080/"
        },
        "id": "Zjyw0kyS5OR7",
        "outputId": "4428eba4-5e7f-4b89-eadf-a32e9d514234"
      },
      "execution_count": 7,
      "outputs": [
        {
          "output_type": "stream",
          "name": "stdout",
          "text": [
            "2.6592586083623697\n"
          ]
        }
      ]
    }
  ]
}