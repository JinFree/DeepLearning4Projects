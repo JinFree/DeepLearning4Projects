{
  "nbformat": 4,
  "nbformat_minor": 0,
  "metadata": {
    "colab": {
      "private_outputs": true,
      "provenance": []
    },
    "kernelspec": {
      "name": "python3",
      "display_name": "Python 3"
    },
    "language_info": {
      "name": "python"
    }
  },
  "cells": [
    {
      "cell_type": "code",
      "source": [
        "#1. 구글 드라이브 연결\n",
        "from google.colab import drive\n",
        "\n",
        "drive.mount('/content/gdrive')"
      ],
      "metadata": {
        "id": "5Iu5kZiCh0v0"
      },
      "execution_count": null,
      "outputs": []
    },
    {
      "cell_type": "code",
      "source": [
        "#2. 구글 드라이브 디렉토리 확인 및 이동\n",
        "!ls /content/gdrive"
      ],
      "metadata": {
        "id": "bejyjdbWh3L8"
      },
      "execution_count": null,
      "outputs": []
    },
    {
      "cell_type": "code",
      "source": [
        "cd /content/gdrive/MyDrive/DLbook"
      ],
      "metadata": {
        "id": "wKgE-zNth8bD"
      },
      "execution_count": null,
      "outputs": []
    },
    {
      "cell_type": "code",
      "source": [
        "print(\"Download Example Repository\")\n",
        "!git clone https://github.com/jetsonai/DeepLearning4Projects"
      ],
      "metadata": {
        "id": "ytdfGkRQijz8"
      },
      "execution_count": null,
      "outputs": []
    },
    {
      "cell_type": "code",
      "source": [],
      "metadata": {
        "id": "_ObcG-SwiM60"
      },
      "execution_count": null,
      "outputs": []
    }
  ]
}